{
  "nbformat": 4,
  "nbformat_minor": 0,
  "metadata": {
    "colab": {
      "name": "Fakenews.ipynb",
      "provenance": [],
      "collapsed_sections": [],
      "toc_visible": true
    },
    "kernelspec": {
      "name": "python3",
      "display_name": "Python 3"
    }
  },
  "cells": [
    {
      "cell_type": "code",
      "metadata": {
        "id": "AAbXXAdTbpBl",
        "colab_type": "code",
        "colab": {}
      },
      "source": [
        "import pandas as pd\n",
        "import numpy as np\n",
        "import matplotlib.pyplot as plt\n",
        "#import sklearn\n",
        "from sklearn.feature_extraction.text import CountVectorizer\n",
        "from sklearn.feature_extraction.text import TfidfVectorizer\n",
        "from sklearn import metrics\n",
        "from sklearn.feature_extraction.text import HashingVectorizer\n",
        "import itertools"
      ],
      "execution_count": 17,
      "outputs": []
    },
    {
      "cell_type": "code",
      "metadata": {
        "id": "PpkpKoK8cFrr",
        "colab_type": "code",
        "colab": {
          "base_uri": "https://localhost:8080/",
          "height": 204
        },
        "outputId": "136790de-3953-4c43-b083-2981ceefa621"
      },
      "source": [
        "df=pd.read_csv('/content/news.csv')\n",
        "df.head()"
      ],
      "execution_count": 2,
      "outputs": [
        {
          "output_type": "execute_result",
          "data": {
            "text/html": [
              "<div>\n",
              "<style scoped>\n",
              "    .dataframe tbody tr th:only-of-type {\n",
              "        vertical-align: middle;\n",
              "    }\n",
              "\n",
              "    .dataframe tbody tr th {\n",
              "        vertical-align: top;\n",
              "    }\n",
              "\n",
              "    .dataframe thead th {\n",
              "        text-align: right;\n",
              "    }\n",
              "</style>\n",
              "<table border=\"1\" class=\"dataframe\">\n",
              "  <thead>\n",
              "    <tr style=\"text-align: right;\">\n",
              "      <th></th>\n",
              "      <th>Unnamed: 0</th>\n",
              "      <th>title</th>\n",
              "      <th>text</th>\n",
              "      <th>label</th>\n",
              "    </tr>\n",
              "  </thead>\n",
              "  <tbody>\n",
              "    <tr>\n",
              "      <th>0</th>\n",
              "      <td>8476</td>\n",
              "      <td>You Can Smell Hillary’s Fear</td>\n",
              "      <td>Daniel Greenfield, a Shillman Journalism Fello...</td>\n",
              "      <td>FAKE</td>\n",
              "    </tr>\n",
              "    <tr>\n",
              "      <th>1</th>\n",
              "      <td>10294</td>\n",
              "      <td>Watch The Exact Moment Paul Ryan Committed Pol...</td>\n",
              "      <td>Google Pinterest Digg Linkedin Reddit Stumbleu...</td>\n",
              "      <td>FAKE</td>\n",
              "    </tr>\n",
              "    <tr>\n",
              "      <th>2</th>\n",
              "      <td>3608</td>\n",
              "      <td>Kerry to go to Paris in gesture of sympathy</td>\n",
              "      <td>U.S. Secretary of State John F. Kerry said Mon...</td>\n",
              "      <td>REAL</td>\n",
              "    </tr>\n",
              "    <tr>\n",
              "      <th>3</th>\n",
              "      <td>10142</td>\n",
              "      <td>Bernie supporters on Twitter erupt in anger ag...</td>\n",
              "      <td>— Kaydee King (@KaydeeKing) November 9, 2016 T...</td>\n",
              "      <td>FAKE</td>\n",
              "    </tr>\n",
              "    <tr>\n",
              "      <th>4</th>\n",
              "      <td>875</td>\n",
              "      <td>The Battle of New York: Why This Primary Matters</td>\n",
              "      <td>It's primary day in New York and front-runners...</td>\n",
              "      <td>REAL</td>\n",
              "    </tr>\n",
              "  </tbody>\n",
              "</table>\n",
              "</div>"
            ],
            "text/plain": [
              "   Unnamed: 0  ... label\n",
              "0        8476  ...  FAKE\n",
              "1       10294  ...  FAKE\n",
              "2        3608  ...  REAL\n",
              "3       10142  ...  FAKE\n",
              "4         875  ...  REAL\n",
              "\n",
              "[5 rows x 4 columns]"
            ]
          },
          "metadata": {
            "tags": []
          },
          "execution_count": 2
        }
      ]
    },
    {
      "cell_type": "code",
      "metadata": {
        "id": "udP4chxxdi4W",
        "colab_type": "code",
        "colab": {
          "base_uri": "https://localhost:8080/",
          "height": 119
        },
        "outputId": "c4539169-f009-4c47-e0ef-277f2702719e"
      },
      "source": [
        "labels=df.label\n",
        "print(labels.head())"
      ],
      "execution_count": 3,
      "outputs": [
        {
          "output_type": "stream",
          "text": [
            "0    FAKE\n",
            "1    FAKE\n",
            "2    REAL\n",
            "3    FAKE\n",
            "4    REAL\n",
            "Name: label, dtype: object\n"
          ],
          "name": "stdout"
        }
      ]
    },
    {
      "cell_type": "code",
      "metadata": {
        "id": "XwkLsPvNvdUO",
        "colab_type": "code",
        "colab": {}
      },
      "source": [
        "from sklearn.model_selection import train_test_split\n",
        "X=df['text']\n",
        "y=labels\n",
        "X_train,X_test,y_train,y_test=train_test_split(X,y,test_size=0.33)"
      ],
      "execution_count": 4,
      "outputs": []
    },
    {
      "cell_type": "code",
      "metadata": {
        "id": "FBpvsiURwIm2",
        "colab_type": "code",
        "colab": {}
      },
      "source": [
        "#Scikit-learn's CountVectorizer is used to convert a collection of text documents to a vector of term/token counts.\n",
        "from sklearn.feature_extraction.text import CountVectorizer\n",
        "count_vectorizer = CountVectorizer(stop_words='english')\n",
        "count_train = count_vectorizer.fit_transform(X_train)\n",
        "count_test = count_vectorizer.transform(X_test)"
      ],
      "execution_count": 5,
      "outputs": []
    },
    {
      "cell_type": "code",
      "metadata": {
        "id": "ifl6iSmkwQb_",
        "colab_type": "code",
        "colab": {}
      },
      "source": [
        "from sklearn.feature_extraction.text import TfidfVectorizer\n",
        "tfidf_vectorizer=TfidfVectorizer(stop_words='english', max_df=0.8)  #Initialize a TfidfVectorizer\n",
        "tfidf_train=tfidf_vectorizer.fit_transform(X_train) # Fit and transform train set\n",
        "tfidf_test=tfidf_vectorizer.transform(X_test)       #transform test set"
      ],
      "execution_count": 6,
      "outputs": []
    },
    {
      "cell_type": "code",
      "metadata": {
        "id": "NN5hbzVgwVCc",
        "colab_type": "code",
        "colab": {
          "base_uri": "https://localhost:8080/",
          "height": 153
        },
        "outputId": "b12b5938-4e77-43c7-e057-5ff16cd5495a"
      },
      "source": [
        "count_df = pd.DataFrame(count_train.A, columns=count_vectorizer.get_feature_names())\n",
        "print(count_df.head())"
      ],
      "execution_count": 7,
      "outputs": [
        {
          "output_type": "stream",
          "text": [
            "   00  000  0000  000000031  00000031  ...  ما  محاولات  من  هذا  والمرضى\n",
            "0   0    1     0          0         0  ...   0        0   0    0        0\n",
            "1   3    0     0          0         0  ...   0        0   0    0        0\n",
            "2   0    0     0          0         0  ...   0        0   0    0        0\n",
            "3   0    0     0          0         0  ...   0        0   0    0        0\n",
            "4   0    0     0          0         0  ...   0        0   0    0        0\n",
            "\n",
            "[5 rows x 56849 columns]\n"
          ],
          "name": "stdout"
        }
      ]
    },
    {
      "cell_type": "code",
      "metadata": {
        "id": "apNsASRYwegL",
        "colab_type": "code",
        "colab": {
          "base_uri": "https://localhost:8080/",
          "height": 153
        },
        "outputId": "80432ad8-3a76-4a2a-9a2d-726852431fcb"
      },
      "source": [
        "tfidf_df = pd.DataFrame(tfidf_train.A, columns=tfidf_vectorizer.get_feature_names())\n",
        "print(tfidf_df.head())"
      ],
      "execution_count": 8,
      "outputs": [
        {
          "output_type": "stream",
          "text": [
            "         00       000  0000  000000031  ...  محاولات   من  هذا  والمرضى\n",
            "0  0.000000  0.009501   0.0        0.0  ...      0.0  0.0  0.0      0.0\n",
            "1  0.131815  0.000000   0.0        0.0  ...      0.0  0.0  0.0      0.0\n",
            "2  0.000000  0.000000   0.0        0.0  ...      0.0  0.0  0.0      0.0\n",
            "3  0.000000  0.000000   0.0        0.0  ...      0.0  0.0  0.0      0.0\n",
            "4  0.000000  0.000000   0.0        0.0  ...      0.0  0.0  0.0      0.0\n",
            "\n",
            "[5 rows x 56849 columns]\n"
          ],
          "name": "stdout"
        }
      ]
    },
    {
      "cell_type": "code",
      "metadata": {
        "id": "xpCeGIm6w1hP",
        "colab_type": "code",
        "colab": {
          "base_uri": "https://localhost:8080/",
          "height": 34
        },
        "outputId": "dd270c98-abbe-485c-819c-46f30b3e4e96"
      },
      "source": [
        "difference = set(count_df.columns) - set(tfidf_df.columns)\n",
        "print(difference)"
      ],
      "execution_count": 9,
      "outputs": [
        {
          "output_type": "stream",
          "text": [
            "set()\n"
          ],
          "name": "stdout"
        }
      ]
    },
    {
      "cell_type": "code",
      "metadata": {
        "id": "E5WpboOCw7qS",
        "colab_type": "code",
        "colab": {
          "base_uri": "https://localhost:8080/",
          "height": 34
        },
        "outputId": "6be1c976-db4e-4f9e-a45c-cf275a743def"
      },
      "source": [
        "print(count_df.equals(tfidf_df))"
      ],
      "execution_count": 10,
      "outputs": [
        {
          "output_type": "stream",
          "text": [
            "False\n"
          ],
          "name": "stdout"
        }
      ]
    },
    {
      "cell_type": "code",
      "metadata": {
        "id": "tY3S8fMKoLpN",
        "colab_type": "code",
        "colab": {}
      },
      "source": [
        "from sklearn.linear_model import PassiveAggressiveClassifier\n",
        "pac = PassiveAggressiveClassifier(n_iter_no_change=50) \n",
        "pac.fit(tfidf_train, y_train)\n",
        "pred1 = pac.predict(tfidf_test)"
      ],
      "execution_count": 11,
      "outputs": []
    },
    {
      "cell_type": "code",
      "metadata": {
        "id": "bQfAo0Aj9MHS",
        "colab_type": "code",
        "colab": {
          "base_uri": "https://localhost:8080/",
          "height": 51
        },
        "outputId": "9058517b-be5b-48dc-9c59-ee65e19c44b2"
      },
      "source": [
        "from sklearn.metrics import confusion_matrix\n",
        "print(confusion_matrix(y_test,pred1))"
      ],
      "execution_count": 13,
      "outputs": [
        {
          "output_type": "stream",
          "text": [
            "[[960  60]\n",
            " [ 84 987]]\n"
          ],
          "name": "stdout"
        }
      ]
    },
    {
      "cell_type": "code",
      "metadata": {
        "id": "zmB_z0uJAeYI",
        "colab_type": "code",
        "colab": {
          "base_uri": "https://localhost:8080/",
          "height": 34
        },
        "outputId": "3b4c76e6-b47e-43ca-b8c2-928df9df7abd"
      },
      "source": [
        "from sklearn.metrics import accuracy_score\n",
        "print(accuracy_score(y_test,pred1))"
      ],
      "execution_count": 14,
      "outputs": [
        {
          "output_type": "stream",
          "text": [
            "0.9311334289813487\n"
          ],
          "name": "stdout"
        }
      ]
    },
    {
      "cell_type": "code",
      "metadata": {
        "id": "O2YQjWHpAhDi",
        "colab_type": "code",
        "colab": {
          "base_uri": "https://localhost:8080/",
          "height": 170
        },
        "outputId": "86e1fc98-87c6-437c-e614-b5cce6c07cc4"
      },
      "source": [
        "from sklearn.metrics import classification_report\n",
        "print(classification_report(y_test,pred1))"
      ],
      "execution_count": 15,
      "outputs": [
        {
          "output_type": "stream",
          "text": [
            "              precision    recall  f1-score   support\n",
            "\n",
            "        FAKE       0.92      0.94      0.93      1020\n",
            "        REAL       0.94      0.92      0.93      1071\n",
            "\n",
            "    accuracy                           0.93      2091\n",
            "   macro avg       0.93      0.93      0.93      2091\n",
            "weighted avg       0.93      0.93      0.93      2091\n",
            "\n"
          ],
          "name": "stdout"
        }
      ]
    },
    {
      "cell_type": "code",
      "metadata": {
        "id": "G5WtCT-Wqdue",
        "colab_type": "code",
        "colab": {
          "base_uri": "https://localhost:8080/",
          "height": 257
        },
        "outputId": "84f11dbb-eee2-4cdd-9bae-c05d99b224ec"
      },
      "source": [
        "cm1 =metrics.confusion_matrix(y_test, pred1)\n",
        "plt.matshow(cm1)\n",
        "plt.title('Confusion matrix')\n",
        "\n",
        "plt.colorbar()\n",
        "plt.show()"
      ],
      "execution_count": 19,
      "outputs": [
        {
          "output_type": "display_data",
          "data": {
            "image/png": "[encoded data removed]",
            "text/plain": [
              "<Figure size 288x288 with 2 Axes>"
            ]
          },
          "metadata": {
            "tags": [],
            "needs_background": "light"
          }
        }
      ]
    },
    {
      "cell_type": "code",
      "metadata": {
        "id": "cxyDciFypI-e",
        "colab_type": "code",
        "colab": {}
      },
      "source": [
        "from sklearn.naive_bayes import MultinomialNB\n",
        "nb_classifier = MultinomialNB()\n",
        "nb_classifier.fit(tfidf_train, y_train)\n",
        "pred2 = nb_classifier.predict(tfidf_test)"
      ],
      "execution_count": 24,
      "outputs": []
    },
    {
      "cell_type": "code",
      "metadata": {
        "id": "PpWTHgNx9q0R",
        "colab_type": "code",
        "colab": {
          "base_uri": "https://localhost:8080/",
          "height": 221
        },
        "outputId": "0ba66773-379e-42c7-80e2-3541f942223a"
      },
      "source": [
        "print(confusion_matrix(y_test,pred2))\n",
        "\n",
        "print(accuracy_score(y_test,pred2))\n",
        "\n",
        "print(classification_report(y_test,pred2))"
      ],
      "execution_count": 26,
      "outputs": [
        {
          "output_type": "stream",
          "text": [
            "[[ 711  309]\n",
            " [  29 1042]]\n",
            "0.8383548541367767\n",
            "              precision    recall  f1-score   support\n",
            "\n",
            "        FAKE       0.96      0.70      0.81      1020\n",
            "        REAL       0.77      0.97      0.86      1071\n",
            "\n",
            "    accuracy                           0.84      2091\n",
            "   macro avg       0.87      0.83      0.83      2091\n",
            "weighted avg       0.86      0.84      0.83      2091\n",
            "\n"
          ],
          "name": "stdout"
        }
      ]
    },
    {
      "cell_type": "code",
      "metadata": {
        "id": "FepsDr8hql-S",
        "colab_type": "code",
        "colab": {
          "base_uri": "https://localhost:8080/",
          "height": 257
        },
        "outputId": "b9f92d35-de88-4a67-b12d-b63f143cf4b9"
      },
      "source": [
        "cm2 = confusion_matrix(y_test, pred2)\n",
        "plt.matshow(cm2)\n",
        "plt.title('Confusion matrix of Naive Bayes')\n",
        "plt.colorbar()\n",
        "plt.show()"
      ],
      "execution_count": 28,
      "outputs": [
        {
          "output_type": "display_data",
          "data": {
            "image/png": "[encoded data removed]",
            "text/plain": [
              "<Figure size 288x288 with 2 Axes>"
            ]
          },
          "metadata": {
            "tags": [],
            "needs_background": "light"
          }
        }
      ]
    },
    {
      "cell_type": "code",
      "metadata": {
        "id": "uTQ413YKp0tb",
        "colab_type": "code",
        "colab": {}
      },
      "source": [
        "from sklearn.linear_model import LogisticRegression\n",
        "lr=LogisticRegression()\n",
        "lr.fit(tfidf_train,y_train)\n",
        "pred3=lr.predict(tfidf_test)"
      ],
      "execution_count": 29,
      "outputs": []
    },
    {
      "cell_type": "code",
      "metadata": {
        "id": "5UguQtS897A4",
        "colab_type": "code",
        "colab": {
          "base_uri": "https://localhost:8080/",
          "height": 221
        },
        "outputId": "27c7b897-c1df-453f-c064-706e5de61ee8"
      },
      "source": [
        "from sklearn.metrics import accuracy_score\n",
        "print(accuracy_score(y_test,pred3))\n",
        "from sklearn.metrics import confusion_matrix\n",
        "print(confusion_matrix(y_test,pred3))\n",
        "from sklearn.metrics import classification_report\n",
        "print(classification_report(y_test,pred3))"
      ],
      "execution_count": 30,
      "outputs": [
        {
          "output_type": "stream",
          "text": [
            "0.9120038259206121\n",
            "[[964  56]\n",
            " [128 943]]\n",
            "              precision    recall  f1-score   support\n",
            "\n",
            "        FAKE       0.88      0.95      0.91      1020\n",
            "        REAL       0.94      0.88      0.91      1071\n",
            "\n",
            "    accuracy                           0.91      2091\n",
            "   macro avg       0.91      0.91      0.91      2091\n",
            "weighted avg       0.91      0.91      0.91      2091\n",
            "\n"
          ],
          "name": "stdout"
        }
      ]
    },
    {
      "cell_type": "code",
      "metadata": {
        "id": "BQE4pYI-qr7P",
        "colab_type": "code",
        "colab": {
          "base_uri": "https://localhost:8080/",
          "height": 257
        },
        "outputId": "70a181bb-ca4b-43a3-8750-1bc332aa6b06"
      },
      "source": [
        "cm3 = confusion_matrix(y_test, pred3)\n",
        "plt.matshow(cm3)\n",
        "plt.title('Confusion matrix of LR model')\n",
        "plt.colorbar()\n",
        "plt.show()"
      ],
      "execution_count": 33,
      "outputs": [
        {
          "output_type": "display_data",
          "data": {
            "image/png": "[encoded data removed]",
            "text/plain": [
              "<Figure size 288x288 with 2 Axes>"
            ]
          },
          "metadata": {
            "tags": [],
            "needs_background": "light"
          }
        }
      ]
    },
    {
      "cell_type": "code",
      "metadata": {
        "id": "4D8Lr_CIqylx",
        "colab_type": "code",
        "colab": {}
      },
      "source": [
        "from sklearn.svm import SVC\n",
        "clf=SVC()\n",
        "clf.fit(tfidf_train,y_train)\n",
        "pred4=clf.predict(tfidf_test)"
      ],
      "execution_count": 42,
      "outputs": []
    },
    {
      "cell_type": "code",
      "metadata": {
        "id": "RglWUHYDDTF2",
        "colab_type": "code",
        "colab": {
          "base_uri": "https://localhost:8080/",
          "height": 68
        },
        "outputId": "eef8b9c6-efad-4f23-d271-ce64ea72a3ba"
      },
      "source": [
        "from sklearn.metrics import accuracy_score\n",
        "print(accuracy_score(y_test,pred4))\n",
        "from sklearn.metrics import confusion_matrix\n",
        "print(confusion_matrix(y_test,pred4))"
      ],
      "execution_count": 47,
      "outputs": [
        {
          "output_type": "stream",
          "text": [
            "0.9225251076040172\n",
            "[[973  47]\n",
            " [115 956]]\n"
          ],
          "name": "stdout"
        }
      ]
    },
    {
      "cell_type": "code",
      "metadata": {
        "id": "yctkV337-F6X",
        "colab_type": "code",
        "colab": {
          "base_uri": "https://localhost:8080/",
          "height": 308
        },
        "outputId": "70b0ce30-83a6-4a6c-efdd-5c443e63b377"
      },
      "source": [
        "print(\"confusion matrix is:\")\n",
        "print(confusion_matrix(y_test,pred4))\n",
        "\n",
        "cm4 = confusion_matrix(y_test, pred4)\n",
        "plt.matshow(cm4)\n",
        "plt.title('Confusion matrix')\n",
        "\n",
        "plt.colorbar()\n",
        "plt.show()"
      ],
      "execution_count": 46,
      "outputs": [
        {
          "output_type": "stream",
          "text": [
            "confusion matrix is:\n",
            "[[973  47]\n",
            " [115 956]]\n"
          ],
          "name": "stdout"
        },
        {
          "output_type": "display_data",
          "data": {
            "image/png": "[encoded data removed]",
            "text/plain": [
              "<Figure size 288x288 with 2 Axes>"
            ]
          },
          "metadata": {
            "tags": [],
            "needs_background": "light"
          }
        }
      ]
    },
    {
      "cell_type": "code",
      "metadata": {
        "id": "se4EZh6_-GKv",
        "colab_type": "code",
        "colab": {
          "base_uri": "https://localhost:8080/",
          "height": 170
        },
        "outputId": "1eb93161-dd7c-4138-81fb-feea82b9226a"
      },
      "source": [
        "from sklearn.metrics import classification_report\n",
        "print(classification_report(y_test,pred4))"
      ],
      "execution_count": 49,
      "outputs": [
        {
          "output_type": "stream",
          "text": [
            "              precision    recall  f1-score   support\n",
            "\n",
            "        FAKE       0.89      0.95      0.92      1020\n",
            "        REAL       0.95      0.89      0.92      1071\n",
            "\n",
            "    accuracy                           0.92      2091\n",
            "   macro avg       0.92      0.92      0.92      2091\n",
            "weighted avg       0.92      0.92      0.92      2091\n",
            "\n"
          ],
          "name": "stdout"
        }
      ]
    }
  ]
}