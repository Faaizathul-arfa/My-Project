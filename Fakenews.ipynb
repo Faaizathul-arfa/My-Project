{
  "nbformat": 4,
  "nbformat_minor": 0,
  "metadata": {
    "colab": {
      "name": "Fakenews.ipynb",
      "provenance": [],
      "collapsed_sections": [],
      "toc_visible": true
    },
    "kernelspec": {
      "name": "python3",
      "display_name": "Python 3"
    }
  },
  "cells": [
    {
      "cell_type": "code",
      "metadata": {
        "id": "AAbXXAdTbpBl",
        "colab_type": "code",
        "colab": {}
      },
      "source": [
        "import pandas as pd\n",
        "import numpy as np\n",
        "import matplotlib.pyplot as plt\n",
        "#import sklearn\n",
        "from sklearn.feature_extraction.text import CountVectorizer\n",
        "from sklearn.feature_extraction.text import TfidfVectorizer\n",
        "from sklearn import metrics\n",
        "from sklearn.feature_extraction.text import HashingVectorizer\n",
        "import itertools"
      ],
      "execution_count": 79,
      "outputs": []
    },
    {
      "cell_type": "code",
      "metadata": {
        "id": "PpkpKoK8cFrr",
        "colab_type": "code",
        "colab": {
          "base_uri": "https://localhost:8080/",
          "height": 204
        },
        "outputId": "c846b6e6-2857-4804-b5cc-20f507a16ed5"
      },
      "source": [
        "df=pd.read_csv('/content/news.csv')\n",
        "df.head()"
      ],
      "execution_count": 54,
      "outputs": [
        {
          "output_type": "execute_result",
          "data": {
            "text/html": [
              "<div>\n",
              "<style scoped>\n",
              "    .dataframe tbody tr th:only-of-type {\n",
              "        vertical-align: middle;\n",
              "    }\n",
              "\n",
              "    .dataframe tbody tr th {\n",
              "        vertical-align: top;\n",
              "    }\n",
              "\n",
              "    .dataframe thead th {\n",
              "        text-align: right;\n",
              "    }\n",
              "</style>\n",
              "<table border=\"1\" class=\"dataframe\">\n",
              "  <thead>\n",
              "    <tr style=\"text-align: right;\">\n",
              "      <th></th>\n",
              "      <th>Unnamed: 0</th>\n",
              "      <th>title</th>\n",
              "      <th>text</th>\n",
              "      <th>label</th>\n",
              "    </tr>\n",
              "  </thead>\n",
              "  <tbody>\n",
              "    <tr>\n",
              "      <th>0</th>\n",
              "      <td>8476</td>\n",
              "      <td>You Can Smell Hillary’s Fear</td>\n",
              "      <td>Daniel Greenfield, a Shillman Journalism Fello...</td>\n",
              "      <td>FAKE</td>\n",
              "    </tr>\n",
              "    <tr>\n",
              "      <th>1</th>\n",
              "      <td>10294</td>\n",
              "      <td>Watch The Exact Moment Paul Ryan Committed Pol...</td>\n",
              "      <td>Google Pinterest Digg Linkedin Reddit Stumbleu...</td>\n",
              "      <td>FAKE</td>\n",
              "    </tr>\n",
              "    <tr>\n",
              "      <th>2</th>\n",
              "      <td>3608</td>\n",
              "      <td>Kerry to go to Paris in gesture of sympathy</td>\n",
              "      <td>U.S. Secretary of State John F. Kerry said Mon...</td>\n",
              "      <td>REAL</td>\n",
              "    </tr>\n",
              "    <tr>\n",
              "      <th>3</th>\n",
              "      <td>10142</td>\n",
              "      <td>Bernie supporters on Twitter erupt in anger ag...</td>\n",
              "      <td>— Kaydee King (@KaydeeKing) November 9, 2016 T...</td>\n",
              "      <td>FAKE</td>\n",
              "    </tr>\n",
              "    <tr>\n",
              "      <th>4</th>\n",
              "      <td>875</td>\n",
              "      <td>The Battle of New York: Why This Primary Matters</td>\n",
              "      <td>It's primary day in New York and front-runners...</td>\n",
              "      <td>REAL</td>\n",
              "    </tr>\n",
              "  </tbody>\n",
              "</table>\n",
              "</div>"
            ],
            "text/plain": [
              "   Unnamed: 0  ... label\n",
              "0        8476  ...  FAKE\n",
              "1       10294  ...  FAKE\n",
              "2        3608  ...  REAL\n",
              "3       10142  ...  FAKE\n",
              "4         875  ...  REAL\n",
              "\n",
              "[5 rows x 4 columns]"
            ]
          },
          "metadata": {
            "tags": []
          },
          "execution_count": 54
        }
      ]
    },
    {
      "cell_type": "code",
      "metadata": {
        "id": "udP4chxxdi4W",
        "colab_type": "code",
        "colab": {
          "base_uri": "https://localhost:8080/",
          "height": 119
        },
        "outputId": "cb7bf876-1468-4753-a989-e995dedc2981"
      },
      "source": [
        "labels=df.label\n",
        "print(labels.head())"
      ],
      "execution_count": 55,
      "outputs": [
        {
          "output_type": "stream",
          "text": [
            "0    FAKE\n",
            "1    FAKE\n",
            "2    REAL\n",
            "3    FAKE\n",
            "4    REAL\n",
            "Name: label, dtype: object\n"
          ],
          "name": "stdout"
        }
      ]
    },
    {
      "cell_type": "code",
      "metadata": {
        "id": "XwkLsPvNvdUO",
        "colab_type": "code",
        "colab": {}
      },
      "source": [
        "from sklearn.model_selection import train_test_split\n",
        "X=df['text']\n",
        "y=labels\n",
        "X_train,X_test,y_train,y_test=train_test_split(X,y,test_size=0.33)"
      ],
      "execution_count": 56,
      "outputs": []
    },
    {
      "cell_type": "code",
      "metadata": {
        "id": "FBpvsiURwIm2",
        "colab_type": "code",
        "colab": {}
      },
      "source": [
        "#Scikit-learn's CountVectorizer is used to convert a collection of text documents to a vector of term/token counts.\n",
        "from sklearn.feature_extraction.text import CountVectorizer\n",
        "count_vectorizer = CountVectorizer(stop_words='english')\n",
        "count_train = count_vectorizer.fit_transform(X_train)\n",
        "count_test = count_vectorizer.transform(X_test)"
      ],
      "execution_count": 57,
      "outputs": []
    },
    {
      "cell_type": "code",
      "metadata": {
        "id": "ifl6iSmkwQb_",
        "colab_type": "code",
        "colab": {}
      },
      "source": [
        "from sklearn.feature_extraction.text import TfidfVectorizer\n",
        "tfidf_vectorizer=TfidfVectorizer(stop_words='english', max_df=0.8)  #Initialize a TfidfVectorizer\n",
        "tfidf_train=tfidf_vectorizer.fit_transform(X_train) # Fit and transform train set\n",
        "tfidf_test=tfidf_vectorizer.transform(X_test)       #transform test set"
      ],
      "execution_count": 58,
      "outputs": []
    },
    {
      "cell_type": "code",
      "metadata": {
        "id": "NN5hbzVgwVCc",
        "colab_type": "code",
        "colab": {
          "base_uri": "https://localhost:8080/",
          "height": 153
        },
        "outputId": "43886ecf-c0bc-4936-b3c3-177f693465b7"
      },
      "source": [
        "count_df = pd.DataFrame(count_train.A, columns=count_vectorizer.get_feature_names())\n",
        "print(count_df.head())"
      ],
      "execution_count": 59,
      "outputs": [
        {
          "output_type": "stream",
          "text": [
            "   00  000  0000  000000031  000035  0001  ...  ما  محاولات  من  هذا  والمرضى  ยงade\n",
            "0   0    0     0          0       0     0  ...   0        0   0    0        0      0\n",
            "1   0    0     0          0       0     0  ...   0        0   0    0        0      0\n",
            "2   0    0     0          0       0     0  ...   0        0   0    0        0      0\n",
            "3   0    0     0          0       0     0  ...   0        0   0    0        0      0\n",
            "4   0    0     0          0       0     0  ...   0        0   0    0        0      0\n",
            "\n",
            "[5 rows x 57195 columns]\n"
          ],
          "name": "stdout"
        }
      ]
    },
    {
      "cell_type": "code",
      "metadata": {
        "id": "apNsASRYwegL",
        "colab_type": "code",
        "colab": {
          "base_uri": "https://localhost:8080/",
          "height": 153
        },
        "outputId": "bf29fa1d-c294-41e3-b5da-1ff7b89a536e"
      },
      "source": [
        "tfidf_df = pd.DataFrame(tfidf_train.A, columns=tfidf_vectorizer.get_feature_names())\n",
        "print(tfidf_df.head())"
      ],
      "execution_count": 60,
      "outputs": [
        {
          "output_type": "stream",
          "text": [
            "    00  000  0000  000000031  000035  ...  محاولات   من  هذا  والمرضى  ยงade\n",
            "0  0.0  0.0   0.0        0.0     0.0  ...      0.0  0.0  0.0      0.0    0.0\n",
            "1  0.0  0.0   0.0        0.0     0.0  ...      0.0  0.0  0.0      0.0    0.0\n",
            "2  0.0  0.0   0.0        0.0     0.0  ...      0.0  0.0  0.0      0.0    0.0\n",
            "3  0.0  0.0   0.0        0.0     0.0  ...      0.0  0.0  0.0      0.0    0.0\n",
            "4  0.0  0.0   0.0        0.0     0.0  ...      0.0  0.0  0.0      0.0    0.0\n",
            "\n",
            "[5 rows x 57195 columns]\n"
          ],
          "name": "stdout"
        }
      ]
    },
    {
      "cell_type": "code",
      "metadata": {
        "id": "xpCeGIm6w1hP",
        "colab_type": "code",
        "colab": {
          "base_uri": "https://localhost:8080/",
          "height": 34
        },
        "outputId": "2c7c9f69-6953-4a7c-fdf2-88620e63d6a2"
      },
      "source": [
        "difference = set(count_df.columns) - set(tfidf_df.columns)\n",
        "print(difference)"
      ],
      "execution_count": 61,
      "outputs": [
        {
          "output_type": "stream",
          "text": [
            "set()\n"
          ],
          "name": "stdout"
        }
      ]
    },
    {
      "cell_type": "code",
      "metadata": {
        "id": "E5WpboOCw7qS",
        "colab_type": "code",
        "colab": {
          "base_uri": "https://localhost:8080/",
          "height": 34
        },
        "outputId": "0f42cf9c-8b24-4f42-e956-c98fd1a0433c"
      },
      "source": [
        "print(count_df.equals(tfidf_df))"
      ],
      "execution_count": 62,
      "outputs": [
        {
          "output_type": "stream",
          "text": [
            "False\n"
          ],
          "name": "stdout"
        }
      ]
    },
    {
      "cell_type": "code",
      "metadata": {
        "id": "tY3S8fMKoLpN",
        "colab_type": "code",
        "colab": {}
      },
      "source": [
        "from sklearn.linear_model import PassiveAggressiveClassifier\n",
        "pac = PassiveAggressiveClassifier(n_iter_no_change=50) \n",
        "pac.fit(tfidf_train, y_train)\n",
        "pred1 = pac.predict(tfidf_test)"
      ],
      "execution_count": 63,
      "outputs": []
    },
    {
      "cell_type": "code",
      "metadata": {
        "id": "bQfAo0Aj9MHS",
        "colab_type": "code",
        "colab": {
          "base_uri": "https://localhost:8080/",
          "height": 51
        },
        "outputId": "4a6050f1-30c5-4210-d00d-5a5e883f96c3"
      },
      "source": [
        "from sklearn.metrics import confusion_matrix\n",
        "print(confusion_matrix(y_test,pred1))"
      ],
      "execution_count": 64,
      "outputs": [
        {
          "output_type": "stream",
          "text": [
            "[[1025   44]\n",
            " [  76  946]]\n"
          ],
          "name": "stdout"
        }
      ]
    },
    {
      "cell_type": "code",
      "metadata": {
        "id": "zmB_z0uJAeYI",
        "colab_type": "code",
        "colab": {
          "base_uri": "https://localhost:8080/",
          "height": 34
        },
        "outputId": "e61acb0f-9805-4401-9d23-c682b290c4cb"
      },
      "source": [
        "from sklearn.metrics import accuracy_score\n",
        "print(accuracy_score(y_test,pred1))"
      ],
      "execution_count": 65,
      "outputs": [
        {
          "output_type": "stream",
          "text": [
            "0.9426111908177905\n"
          ],
          "name": "stdout"
        }
      ]
    },
    {
      "cell_type": "code",
      "metadata": {
        "id": "O2YQjWHpAhDi",
        "colab_type": "code",
        "colab": {
          "base_uri": "https://localhost:8080/",
          "height": 170
        },
        "outputId": "7fb8384e-9255-4f26-b86e-6fb5ac798b7b"
      },
      "source": [
        "from sklearn.metrics import classification_report\n",
        "print(classification_report(y_test,pred1))"
      ],
      "execution_count": 66,
      "outputs": [
        {
          "output_type": "stream",
          "text": [
            "              precision    recall  f1-score   support\n",
            "\n",
            "        FAKE       0.93      0.96      0.94      1069\n",
            "        REAL       0.96      0.93      0.94      1022\n",
            "\n",
            "    accuracy                           0.94      2091\n",
            "   macro avg       0.94      0.94      0.94      2091\n",
            "weighted avg       0.94      0.94      0.94      2091\n",
            "\n"
          ],
          "name": "stdout"
        }
      ]
    },
    {
      "cell_type": "code",
      "metadata": {
        "id": "G5WtCT-Wqdue",
        "colab_type": "code",
        "colab": {
          "base_uri": "https://localhost:8080/",
          "height": 257
        },
        "outputId": "12b46d74-b066-4eef-de40-adafae8d3814"
      },
      "source": [
        "cm1 =metrics.confusion_matrix(y_test, pred1)\n",
        "plt.matshow(cm1)\n",
        "plt.title('Confusion matrix')\n",
        "\n",
        "plt.colorbar()\n",
        "plt.show()"
      ],
      "execution_count": 67,
      "outputs": [
        {
          "output_type": "display_data",
          "data": {
            "image/png": "[encoded data removed]",
            "text/plain": [
              "<Figure size 288x288 with 2 Axes>"
            ]
          },
          "metadata": {
            "tags": [],
            "needs_background": "light"
          }
        }
      ]
    },
    {
      "cell_type": "code",
      "metadata": {
        "id": "cxyDciFypI-e",
        "colab_type": "code",
        "colab": {}
      },
      "source": [
        "from sklearn.naive_bayes import MultinomialNB\n",
        "nb_classifier = MultinomialNB()\n",
        "nb_classifier.fit(tfidf_train, y_train)\n",
        "pred2 = nb_classifier.predict(tfidf_test)"
      ],
      "execution_count": 68,
      "outputs": []
    },
    {
      "cell_type": "code",
      "metadata": {
        "id": "PpWTHgNx9q0R",
        "colab_type": "code",
        "colab": {
          "base_uri": "https://localhost:8080/",
          "height": 221
        },
        "outputId": "b2613856-30a7-4824-d64f-31b06d89d415"
      },
      "source": [
        "print(confusion_matrix(y_test,pred2))\n",
        "\n",
        "print(accuracy_score(y_test,pred2))\n",
        "\n",
        "print(classification_report(y_test,pred2))"
      ],
      "execution_count": 69,
      "outputs": [
        {
          "output_type": "stream",
          "text": [
            "[[ 701  368]\n",
            " [  21 1001]]\n",
            "0.8139646102343376\n",
            "              precision    recall  f1-score   support\n",
            "\n",
            "        FAKE       0.97      0.66      0.78      1069\n",
            "        REAL       0.73      0.98      0.84      1022\n",
            "\n",
            "    accuracy                           0.81      2091\n",
            "   macro avg       0.85      0.82      0.81      2091\n",
            "weighted avg       0.85      0.81      0.81      2091\n",
            "\n"
          ],
          "name": "stdout"
        }
      ]
    },
    {
      "cell_type": "code",
      "metadata": {
        "id": "FepsDr8hql-S",
        "colab_type": "code",
        "colab": {
          "base_uri": "https://localhost:8080/",
          "height": 258
        },
        "outputId": "60742146-038c-4fdd-f2e2-c4d4548f08bf"
      },
      "source": [
        "cm2 = confusion_matrix(y_test, pred2)\n",
        "plt.matshow(cm2)\n",
        "plt.title('Confusion matrix of Naive Bayes')\n",
        "plt.colorbar()\n",
        "plt.show()"
      ],
      "execution_count": 70,
      "outputs": [
        {
          "output_type": "display_data",
          "data": {
            "image/png": "[encoded data removed]",
            "text/plain": [
              "<Figure size 288x288 with 2 Axes>"
            ]
          },
          "metadata": {
            "tags": [],
            "needs_background": "light"
          }
        }
      ]
    },
    {
      "cell_type": "code",
      "metadata": {
        "id": "uTQ413YKp0tb",
        "colab_type": "code",
        "colab": {}
      },
      "source": [
        "from sklearn.linear_model import LogisticRegression\n",
        "lr=LogisticRegression()\n",
        "lr.fit(tfidf_train,y_train)\n",
        "pred3=lr.predict(tfidf_test)"
      ],
      "execution_count": 71,
      "outputs": []
    },
    {
      "cell_type": "code",
      "metadata": {
        "id": "5UguQtS897A4",
        "colab_type": "code",
        "colab": {
          "base_uri": "https://localhost:8080/",
          "height": 221
        },
        "outputId": "58cf453a-6c01-44dc-a904-f3f85daedf08"
      },
      "source": [
        "from sklearn.metrics import accuracy_score\n",
        "print(accuracy_score(y_test,pred3))\n",
        "from sklearn.metrics import confusion_matrix\n",
        "print(confusion_matrix(y_test,pred3))\n",
        "from sklearn.metrics import classification_report\n",
        "print(classification_report(y_test,pred3))"
      ],
      "execution_count": 72,
      "outputs": [
        {
          "output_type": "stream",
          "text": [
            "0.9225251076040172\n",
            "[[1017   52]\n",
            " [ 110  912]]\n",
            "              precision    recall  f1-score   support\n",
            "\n",
            "        FAKE       0.90      0.95      0.93      1069\n",
            "        REAL       0.95      0.89      0.92      1022\n",
            "\n",
            "    accuracy                           0.92      2091\n",
            "   macro avg       0.92      0.92      0.92      2091\n",
            "weighted avg       0.92      0.92      0.92      2091\n",
            "\n"
          ],
          "name": "stdout"
        }
      ]
    },
    {
      "cell_type": "code",
      "metadata": {
        "id": "BQE4pYI-qr7P",
        "colab_type": "code",
        "colab": {
          "base_uri": "https://localhost:8080/",
          "height": 257
        },
        "outputId": "528657a4-888b-4b9c-ebf2-1b9d0a6b7594"
      },
      "source": [
        "cm3 = confusion_matrix(y_test, pred3)\n",
        "plt.matshow(cm3)\n",
        "plt.title('Confusion matrix of LR model')\n",
        "plt.colorbar()\n",
        "plt.show()"
      ],
      "execution_count": 73,
      "outputs": [
        {
          "output_type": "display_data",
          "data": {
            "image/png": "[encoded data removed]",
            "text/plain": [
              "<Figure size 288x288 with 2 Axes>"
            ]
          },
          "metadata": {
            "tags": [],
            "needs_background": "light"
          }
        }
      ]
    },
    {
      "cell_type": "code",
      "metadata": {
        "id": "4D8Lr_CIqylx",
        "colab_type": "code",
        "colab": {}
      },
      "source": [
        "from sklearn.svm import SVC\n",
        "clf=SVC()\n",
        "clf.fit(tfidf_train,y_train)\n",
        "pred4=clf.predict(tfidf_test)"
      ],
      "execution_count": 74,
      "outputs": []
    },
    {
      "cell_type": "code",
      "metadata": {
        "id": "RglWUHYDDTF2",
        "colab_type": "code",
        "colab": {
          "base_uri": "https://localhost:8080/",
          "height": 34
        },
        "outputId": "049ec68d-45af-47f0-ca43-3b9fbec0c054"
      },
      "source": [
        "from sklearn.metrics import accuracy_score\n",
        "print(accuracy_score(y_test,pred4))\n"
      ],
      "execution_count": 75,
      "outputs": [
        {
          "output_type": "stream",
          "text": [
            "0.9340028694404591\n"
          ],
          "name": "stdout"
        }
      ]
    },
    {
      "cell_type": "code",
      "metadata": {
        "id": "yctkV337-F6X",
        "colab_type": "code",
        "colab": {
          "base_uri": "https://localhost:8080/",
          "height": 308
        },
        "outputId": "549e7b60-8902-4e71-f8b3-d3cc31cdad38"
      },
      "source": [
        "print(\"confusion matrix is:\")\n",
        "print(confusion_matrix(y_test,pred4))\n",
        "\n",
        "cm4 = confusion_matrix(y_test, pred4)\n",
        "plt.matshow(cm4)\n",
        "plt.title('Confusion matrix')\n",
        "\n",
        "plt.colorbar()\n",
        "plt.show()"
      ],
      "execution_count": 76,
      "outputs": [
        {
          "output_type": "stream",
          "text": [
            "confusion matrix is:\n",
            "[[1031   38]\n",
            " [ 100  922]]\n"
          ],
          "name": "stdout"
        },
        {
          "output_type": "display_data",
          "data": {
            "image/png": "[encoded data removed]",
            "text/plain": [
              "<Figure size 288x288 with 2 Axes>"
            ]
          },
          "metadata": {
            "tags": [],
            "needs_background": "light"
          }
        }
      ]
    },
    {
      "cell_type": "code",
      "metadata": {
        "id": "se4EZh6_-GKv",
        "colab_type": "code",
        "colab": {
          "base_uri": "https://localhost:8080/",
          "height": 170
        },
        "outputId": "3021246c-b253-44ae-d29b-c4684aa2adc1"
      },
      "source": [
        "from sklearn.metrics import classification_report\n",
        "print(classification_report(y_test,pred4))"
      ],
      "execution_count": 77,
      "outputs": [
        {
          "output_type": "stream",
          "text": [
            "              precision    recall  f1-score   support\n",
            "\n",
            "        FAKE       0.91      0.96      0.94      1069\n",
            "        REAL       0.96      0.90      0.93      1022\n",
            "\n",
            "    accuracy                           0.93      2091\n",
            "   macro avg       0.94      0.93      0.93      2091\n",
            "weighted avg       0.94      0.93      0.93      2091\n",
            "\n"
          ],
          "name": "stdout"
        }
      ]
    }
  ]
}